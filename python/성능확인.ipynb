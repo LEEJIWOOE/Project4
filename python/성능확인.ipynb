{
 "cells": [
  {
   "cell_type": "code",
   "id": "83aae8fb-901a-432b-a070-583d5cd8dd7a",
   "metadata": {
    "ExecuteTime": {
     "end_time": "2024-05-30T05:31:11.218994Z",
     "start_time": "2024-05-30T05:31:10.221063Z"
    }
   },
   "source": [
    "from tensorflow.keras.models import load_model\n",
    "from tensorflow.keras.preprocessing.image import load_img, img_to_array\n",
    "import numpy as np\n",
    "\n",
    "# 저장된 모델 불러오기\n",
    "model = load_model('my_model_updated.keras')\n",
    "\n",
    "# 테스트할 이미지 파일 경로 설정\n",
    "test_image_paths = {\n",
    "    '철캔': '캔인듯.jpg',\n",
    "    '알루미늄캔': '알루미늄캔인듯.jpg',\n",
    "    # '종이': '재활용품_분류_및_선별_데이터/01-1.정식개방데이터/Validation/01.원천데이터/VS_1.영상추출_02.종이_001.종이/864497@0_02001_220907_P1_T3__1339.jpg'\n",
    "}\n",
    "# image_path = '재활용품_분류_및_선별_데이터/01-1.정식개방데이터/Validation/01.원천데이터/VS_1.영상추출_01.금속캔_002.알루미늄캔/903879@0_01002_220907_P1_T3__0598.jpg'\n",
    "img_height, img_width = 150, 150  # 원하는 이미지 크기\n",
    "\n",
    "# 이미지를 배열로 변환하는 함수\n",
    "def preprocess_image(image_path):\n",
    "    img = load_img(image_path, target_size=(img_height, img_width))\n",
    "    img_array = img_to_array(img)\n",
    "    img_array = np.expand_dims(img_array, axis=0)\n",
    "    img_array = img_array / 255.0\n",
    "    return img_array\n",
    "\n",
    "# 이미지 전처리 및 예측 수행\n",
    "def predict_image(image_path):\n",
    "    img_array = preprocess_image(image_path)\n",
    "    preds = model.predict(img_array)\n",
    "    predicted_class = np.argmax(preds)\n",
    "    return predicted_class, preds\n",
    "\n",
    "for class_name, image_path in test_image_paths.items():\n",
    "    predicted_class, preds = predict_image(image_path)\n",
    "    class_names = ['철캔', '알루미늄캔']\n",
    "    print(f\"{class_name} 이미지 예측 결과: {class_names[predicted_class]} (확률: {preds[0][predicted_class]:.2f})\")"
   ],
   "outputs": [
    {
     "name": "stdout",
     "output_type": "stream",
     "text": [
      "\u001B[1m1/1\u001B[0m \u001B[32m━━━━━━━━━━━━━━━━━━━━\u001B[0m\u001B[37m\u001B[0m \u001B[1m0s\u001B[0m 89ms/step\n",
      "철캔 이미지 예측 결과: 철캔 (확률: 1.00)\n",
      "\u001B[1m1/1\u001B[0m \u001B[32m━━━━━━━━━━━━━━━━━━━━\u001B[0m\u001B[37m\u001B[0m \u001B[1m0s\u001B[0m 26ms/step\n",
      "알루미늄캔 이미지 예측 결과: 철캔 (확률: 1.00)\n"
     ]
    }
   ],
   "execution_count": 2
  },
  {
   "cell_type": "code",
   "execution_count": null,
   "id": "3b44e069-67c5-44f5-8c86-e39b17a7feff",
   "metadata": {},
   "outputs": [],
   "source": []
  }
 ],
 "metadata": {
  "kernelspec": {
   "display_name": "Python 3 (ipykernel)",
   "language": "python",
   "name": "python3"
  },
  "language_info": {
   "codemirror_mode": {
    "name": "ipython",
    "version": 3
   },
   "file_extension": ".py",
   "mimetype": "text/x-python",
   "name": "python",
   "nbconvert_exporter": "python",
   "pygments_lexer": "ipython3",
   "version": "3.11.7"
  }
 },
 "nbformat": 4,
 "nbformat_minor": 5
}
