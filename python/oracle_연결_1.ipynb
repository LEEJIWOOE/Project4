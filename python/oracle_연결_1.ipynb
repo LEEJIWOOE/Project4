{
 "cells": [
  {
   "metadata": {
    "ExecuteTime": {
     "end_time": "2024-06-12T08:37:27.460577Z",
     "start_time": "2024-06-12T08:37:27.303772Z"
    }
   },
   "cell_type": "code",
   "source": [
    "import oracledb\n",
    "import cx_Oracle\n",
    "import os\n",
    "from PIL import Image"
   ],
   "id": "ac2319b75f57d7ee",
   "outputs": [],
   "execution_count": 1
  },
  {
   "metadata": {
    "ExecuteTime": {
     "end_time": "2024-06-12T09:15:45.760623Z",
     "start_time": "2024-06-12T09:15:45.727195Z"
    }
   },
   "cell_type": "code",
   "source": [
    "# con = oracledb.connect(user='kyb', password='1111', dsn='localhost:1521/xe')\n",
    "con = cx_Oracle.connect('kyb/1111@localhost:1521/xe')\n",
    "cursor = con.cursor()\n",
    "print('데이터베이스 연결성공')"
   ],
   "id": "d2a1e02e1be5aee",
   "outputs": [
    {
     "name": "stdout",
     "output_type": "stream",
     "text": [
      "데이터베이스 연결성공\n"
     ]
    }
   ],
   "execution_count": 12
  },
  {
   "metadata": {
    "ExecuteTime": {
     "end_time": "2024-06-12T09:15:46.118717Z",
     "start_time": "2024-06-12T09:15:46.109423Z"
    }
   },
   "cell_type": "code",
   "source": [
    "img_data = []\n",
    "file = \"../public/img/일회용품/36\"\n",
    "\n",
    "for filename in os.listdir(file):\n",
    "    if filename.lower().endswith(('.png', '.jpg', '.jpeg', '.bmp', '.gif')):\n",
    "        img_path = os.path.join(file, filename)\n",
    "        with open(img_path, 'rb') as img_file:  # 이미지 파일을 바이너리 모드로 열기\n",
    "            img_data.append(img_file.read())  # 파일 내용을 읽어서 리스트에 추가\n",
    "\n",
    "            \n",
    "print(f\"Loaded {len(img_data)} images.\")"
   ],
   "id": "c6467d06bbf95e70",
   "outputs": [
    {
     "name": "stdout",
     "output_type": "stream",
     "text": [
      "Loaded 5 images.\n"
     ]
    }
   ],
   "execution_count": 13
  },
  {
   "metadata": {
    "ExecuteTime": {
     "end_time": "2024-06-12T09:20:06.047363Z",
     "start_time": "2024-06-12T09:15:46.624782Z"
    }
   },
   "cell_type": "code",
   "source": [
    "try:\n",
    "    cursor.execute(f\"\"\"\n",
    "             INSERT INTO b_disposable(id, img1, img2, img3, img4, img5/*, img6, img7, img8, img9, img10, img11, img12*/)\n",
    "            VALUES (4, :img1, :img2, :img3, :img4, :img5/*, :img6, :img7, :img8, :img9, :img10, :img11/*, :img12*/)\"\"\", {\n",
    "            'img1': img_data[0],\n",
    "            'img2': img_data[1],\n",
    "            'img3': img_data[2],\n",
    "            'img4': img_data[3],\n",
    "            'img5': img_data[4]\n",
    "            # 'img6': img_data[5],\n",
    "            # 'img7': img_data[6],\n",
    "            # 'img8': img_data[7],\n",
    "            # 'img9': img_data[8],\n",
    "            # 'img10': img_data[9],\n",
    "            # 'img11' : img_data[10],\n",
    "            # 'img12' : img_data[11]\n",
    "    })\n",
    "    con.commit()\n",
    "    \n",
    "except cx_Oracle.Error as e:\n",
    "    print(\"Error occurred:\", e)\n",
    "\n",
    "# 연결 종료\n",
    "cursor.close()\n",
    "con.close()"
   ],
   "id": "cd061a7d45c0a1ed",
   "outputs": [],
   "execution_count": 14
  },
  {
   "metadata": {},
   "cell_type": "code",
   "outputs": [],
   "execution_count": null,
   "source": [
    "try:\n",
    "    cursor.execute(f\"\"\"\n",
    "             INSERT INTO b_disposable(id, img1, img2, img3, img4, img5/*, img6, img7, img8, img9, img10, img11, img12*/)\n",
    "            VALUES (b_disposable_seq.Nextval,, :img1, :img2, :img3, :img4, :img5/*, :img6, :img7, :img8, :img9, :img10, :img11/*, :img12*/)\"\"\", {\n",
    "            'img1': img_data[0],\n",
    "            'img2': img_data[1],\n",
    "            'img3': img_data[2],\n",
    "            'img4': img_data[3],\n",
    "            'img5': img_data[4]\n",
    "            # 'img6': img_data[5],\n",
    "            # 'img7': img_data[6],\n",
    "            # 'img8': img_data[7],\n",
    "            # 'img9': img_data[8],\n",
    "            # 'img10': img_data[9],\n",
    "            # 'img11' : img_data[10],\n",
    "            # 'img12' : img_data[11]\n",
    "    })\n",
    "    con.commit()\n",
    "    \n",
    "except cx_Oracle.Error as e:\n",
    "    print(\"Error occurred:\", e)\n",
    "\n",
    "# 연결 종료\n",
    "cursor.close()\n",
    "con.close()"
   ],
   "id": "2f7ff70235b3945a"
  }
 ],
 "metadata": {
  "kernelspec": {
   "display_name": "Python 3",
   "language": "python",
   "name": "python3"
  },
  "language_info": {
   "codemirror_mode": {
    "name": "ipython",
    "version": 2
   },
   "file_extension": ".py",
   "mimetype": "text/x-python",
   "name": "python",
   "nbconvert_exporter": "python",
   "pygments_lexer": "ipython2",
   "version": "2.7.6"
  }
 },
 "nbformat": 4,
 "nbformat_minor": 5
}
