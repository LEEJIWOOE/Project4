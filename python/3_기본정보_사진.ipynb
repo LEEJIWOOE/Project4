{
 "cells": [
  {
   "cell_type": "code",
   "id": "fc633800-2f3d-490b-8db4-5cdb8e5e4f13",
   "metadata": {
    "ExecuteTime": {
     "end_time": "2024-06-08T04:28:49.263559Z",
     "start_time": "2024-06-08T04:28:46.927200Z"
    }
   },
   "source": [
    "from selenium import webdriver\n",
    "from selenium.webdriver.common.by import By\n",
    "from selenium.webdriver.common.keys import Keys\n",
    "from selenium.webdriver.support import expected_conditions as EC\n",
    "from selenium.webdriver.chrome.options import Options\n",
    "from selenium.webdriver.chrome.service import Service\n",
    "from webdriver_manager.chrome import ChromeDriverManager\n",
    "from selenium.webdriver.support.ui import WebDriverWait\n",
    "\n",
    "import requests\n",
    "\n",
    "import time\n",
    "from time import sleep\n",
    "from datetime import datetime\n",
    "from bs4 import BeautifulSoup\n",
    "from urllib.parse import unquote\n",
    "\n",
    "import os\n",
    "import cx_Oracle\n",
    "import requests\n",
    "from io import BytesIO"
   ],
   "outputs": [],
   "execution_count": 1
  },
  {
   "cell_type": "code",
   "id": "1fc0ed3d-72b9-47fa-8693-6556b1a556bb",
   "metadata": {
    "ExecuteTime": {
     "end_time": "2024-06-08T06:16:16.650716Z",
     "start_time": "2024-06-08T06:16:09.968939Z"
    }
   },
   "source": [
    "options = Options()\n",
    "options.add_experimental_option(\"detach\", True)\n",
    "service = Service(ChromeDriverManager().install())\n",
    "driver = webdriver.Chrome(service=service, options=options)\n",
    "\n",
    "#네이버 지도 화면의 URL\n",
    "url = \"https://map.naver.com/v5/search\"\n",
    "\n",
    "driver.get(url)\n",
    "\n",
    "time.sleep(3)\n",
    "key_word = '비건카페 달냥'"
   ],
   "outputs": [],
   "execution_count": 63
  },
  {
   "cell_type": "code",
   "id": "4354b13a-af2e-47ea-bab0-0abb557a96cc",
   "metadata": {
    "ExecuteTime": {
     "end_time": "2024-06-08T06:16:16.666169Z",
     "start_time": "2024-06-08T06:16:16.654709Z"
    }
   },
   "source": [
    "# 해당 요소 찾을때 까지 10초대기\n",
    "def time_wait(num, code):\n",
    "    try:\n",
    "        wait = WebDriverWait(driver, num).until(\n",
    "            EC.presence_of_element_located((By.CSS_SELECTOR, code)))\n",
    "    except:\n",
    "        print(code, '태그를 찾지 못하였습니다.')\n",
    "        driver.quit()\n",
    "    return wait\n",
    "    \n",
    "# frame 변경 메소드\n",
    "def switch_frame(frame):\n",
    "    driver.switch_to.default_content()  # frame 초기화\n",
    "    driver.switch_to.frame(frame)  # frame 변경\n",
    "\n",
    "# 현재 스크래핑된 HTML 요소 스냅샷 만드는 함수\n",
    "def save_html_snapshot(page_str, file_prefix):\n",
    "    current_date = datetime.now().strftime('%y%m%d_%H%M%S')\n",
    "    \n",
    "    # 파일 경로 생성\n",
    "    file_path = f'{file_prefix}_{current_date}.html'\n",
    "    \n",
    "    if not os.path.exists(file_path):\n",
    "      \n",
    "        soup = BeautifulSoup(page_str, 'html.parser')\n",
    "        # 파일에 저장\n",
    "        with open(file_path, 'w', encoding='utf-8') as file:\n",
    "            file.write(soup.prettify())"
   ],
   "outputs": [],
   "execution_count": 64
  },
  {
   "cell_type": "code",
   "id": "0e9ef62b-ea39-40d0-924e-545959d41597",
   "metadata": {
    "ExecuteTime": {
     "end_time": "2024-06-08T06:16:20.296814Z",
     "start_time": "2024-06-08T06:16:16.668168Z"
    }
   },
   "source": [
    "# 검색창 찾기 및 검색어 입력\n",
    "time_wait(10, 'div.input_box > input.input_search')\n",
    "search = driver.find_element(By.CSS_SELECTOR, 'div.input_box > input.input_search')\n",
    "search.send_keys(key_word)  # 검색어 입력\n",
    "search.send_keys(Keys.ENTER)  # 엔터버튼 누르기\n",
    "\n",
    "# 검색 결과가 나올 때까지 대기\n",
    "sleep(1)\n",
    "switch_frame('searchIframe')\n",
    "save_html_snapshot(driver.page_source, \"검색_결과\")"
   ],
   "outputs": [],
   "execution_count": 65
  },
  {
   "metadata": {
    "ExecuteTime": {
     "end_time": "2024-06-08T06:16:31.285733Z",
     "start_time": "2024-06-08T06:16:28.001036Z"
    }
   },
   "cell_type": "code",
   "source": [
    "# 사진 탭 클릭\n",
    "switch_frame('entryIframe')\n",
    "driver.find_element(By.XPATH, '//*[@id=\"app-root\"]/div/div/div/div[4]/div/div/div/div/a[5]/span').click()  # 사진\n",
    "sleep(3)\n",
    "save_html_snapshot(driver.page_source, '사진_iframe')"
   ],
   "id": "3b8fa46f-3681-4485-8c66-1b1b5e7fadf3",
   "outputs": [],
   "execution_count": 66
  },
  {
   "cell_type": "code",
   "id": "46474c37",
   "metadata": {
    "ExecuteTime": {
     "end_time": "2024-06-08T06:16:33.644971Z",
     "start_time": "2024-06-08T06:16:33.559061Z"
    }
   },
   "source": [
    "# 이미지 URL 추출\n",
    "photo = []\n",
    "soup = BeautifulSoup(driver.page_source, 'html.parser')\n",
    "images = soup.find_all(\"img\", class_=\"K0PDV\") # 모든 사진 요소를 찾습니다."
   ],
   "outputs": [],
   "execution_count": 67
  },
  {
   "cell_type": "code",
   "id": "0b2df03d",
   "metadata": {
    "ExecuteTime": {
     "end_time": "2024-06-08T06:16:34.492311Z",
     "start_time": "2024-06-08T06:16:34.486257Z"
    }
   },
   "source": [
    "for img in images:\n",
    "    image_src = img.get('src')  # 이미지의 URL을 가져옴\n",
    "    if image_src:\n",
    "        # URL 디코딩 및 필요한 경우 처리\n",
    "        decoded_url = image_src.split('&src=')[1] if '&src=' in image_src else image_src\n",
    "        photo.append(decoded_url)\n",
    "    \n",
    "print(photo[:8])"
   ],
   "outputs": [
    {
     "name": "stdout",
     "output_type": "stream",
     "text": [
      "['https%3A%2F%2Fldb-phinf.pstatic.net%2F20231106_36%2F1699248542569Ewz7b_JPEG%2Ftemp_file.jpg', 'https%3A%2F%2Fldb-phinf.pstatic.net%2F20231009_62%2F1696825952821PLp6p_JPEG%2Ftemp_file.jpg', 'https%3A%2F%2Fldb-phinf.pstatic.net%2F20230701_252%2F1688183246487JdiH3_JPEG%2FIMG_20230606_145016_068-01-01.jpeg', 'https%3A%2F%2Fldb-phinf.pstatic.net%2F20230825_83%2F1692952697423BPi86_JPEG%2FIMG_20230825_171139_941.jpg', 'https%3A%2F%2Fldb-phinf.pstatic.net%2F20230825_131%2F1692952697289s5jsW_JPEG%2FIMG_20230825_171146_295-02.jpeg', 'https%3A%2F%2Fldb-phinf.pstatic.net%2F20231106_36%2F1699248542569Ewz7b_JPEG%2Ftemp_file.jpg', 'https%3A%2F%2Fvideo-phinf.pstatic.net%2F20240129_279%2F1706533219603VbHD6_JPEG%2F5a4676e1-bea6-11ee-8ab9-a0369ffdb420_03.jpg', 'https%3A%2F%2Fvideo-phinf.pstatic.net%2F20240129_279%2F1706533219603VbHD6_JPEG%2F5a4676e1-bea6-11ee-8ab9-a0369ffdb420_03.jpg']\n"
     ]
    }
   ],
   "execution_count": 68
  },
  {
   "metadata": {
    "ExecuteTime": {
     "end_time": "2024-06-08T06:16:35.425310Z",
     "start_time": "2024-06-08T06:16:35.420553Z"
    }
   },
   "cell_type": "code",
   "source": [
    "decoded_url =  [unquote(url) for url in photo[:8]]\n",
    "print(decoded_url)\n",
    "print(len(decoded_url))"
   ],
   "id": "3be3b952fd7327bb",
   "outputs": [
    {
     "name": "stdout",
     "output_type": "stream",
     "text": [
      "['https://ldb-phinf.pstatic.net/20231106_36/1699248542569Ewz7b_JPEG/temp_file.jpg', 'https://ldb-phinf.pstatic.net/20231009_62/1696825952821PLp6p_JPEG/temp_file.jpg', 'https://ldb-phinf.pstatic.net/20230701_252/1688183246487JdiH3_JPEG/IMG_20230606_145016_068-01-01.jpeg', 'https://ldb-phinf.pstatic.net/20230825_83/1692952697423BPi86_JPEG/IMG_20230825_171139_941.jpg', 'https://ldb-phinf.pstatic.net/20230825_131/1692952697289s5jsW_JPEG/IMG_20230825_171146_295-02.jpeg', 'https://ldb-phinf.pstatic.net/20231106_36/1699248542569Ewz7b_JPEG/temp_file.jpg', 'https://video-phinf.pstatic.net/20240129_279/1706533219603VbHD6_JPEG/5a4676e1-bea6-11ee-8ab9-a0369ffdb420_03.jpg', 'https://video-phinf.pstatic.net/20240129_279/1706533219603VbHD6_JPEG/5a4676e1-bea6-11ee-8ab9-a0369ffdb420_03.jpg']\n",
      "8\n"
     ]
    }
   ],
   "execution_count": 69
  },
  {
   "metadata": {
    "ExecuteTime": {
     "end_time": "2024-06-08T06:16:37.063577Z",
     "start_time": "2024-06-08T06:16:37.033561Z"
    }
   },
   "cell_type": "code",
   "source": [
    "connection = cx_Oracle.connect('kyb/1111@localhost:1521/xe')\n",
    "cursor = connection.cursor()"
   ],
   "id": "bbe44cd0b2ea593f",
   "outputs": [],
   "execution_count": 70
  },
  {
   "metadata": {
    "ExecuteTime": {
     "end_time": "2024-06-08T06:16:48.584235Z",
     "start_time": "2024-06-08T06:16:47.448566Z"
    }
   },
   "cell_type": "code",
   "source": [
    "# 이미지 데이터를 다운로드하고 데이터베이스에 저장\n",
    "image_data_list = []\n",
    "for url in decoded_url:\n",
    "    response = requests.get(url)\n",
    "    if response.status_code == 200:\n",
    "        image_data_list.append(response.content)\n",
    "    else:\n",
    "        print(\"Failed to download image from\", url)\n",
    "        image_data_list.append(None)  # 다운로드 실패시 None 추가\n",
    "\n",
    "try:\n",
    "    # 이미지 데이터 삽입\n",
    "    cursor.execute(f\"\"\"\n",
    "        INSERT INTO zero_images (id, image_id, img1, img2, img3, img4, img5, img6, img7, img8)\n",
    "        VALUES (20, 20, :img1, :img2, :img3, :img4, :img5, :img6, :img7, :img8)\n",
    "    \"\"\", {\n",
    "        'img1': image_data_list[0],\n",
    "        'img2': image_data_list[1],\n",
    "        'img3': image_data_list[2],\n",
    "        'img4': image_data_list[3],\n",
    "        'img5': image_data_list[4],\n",
    "        'img6': image_data_list[5],\n",
    "        'img7': image_data_list[6],\n",
    "        'img8': image_data_list[7]\n",
    "    })\n",
    "    connection.commit()\n",
    "\n",
    "except cx_Oracle.Error as e:\n",
    "    print(\"Error occurred:\", e)\n",
    "\n",
    "# 연결 종료\n",
    "cursor.close()\n",
    "connection.close()"
   ],
   "id": "106e66231a9d600f",
   "outputs": [],
   "execution_count": 71
  },
  {
   "metadata": {},
   "cell_type": "code",
   "outputs": [],
   "execution_count": null,
   "source": "",
   "id": "a7794bd40033c3ad"
  }
 ],
 "metadata": {
  "kernelspec": {
   "display_name": "Python 3 (ipykernel)",
   "language": "python",
   "name": "python3"
  },
  "language_info": {
   "codemirror_mode": {
    "name": "ipython",
    "version": 3
   },
   "file_extension": ".py",
   "mimetype": "text/x-python",
   "name": "python",
   "nbconvert_exporter": "python",
   "pygments_lexer": "ipython3",
   "version": "3.11.7"
  }
 },
 "nbformat": 4,
 "nbformat_minor": 5
}
