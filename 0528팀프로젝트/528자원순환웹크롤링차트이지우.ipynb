{
 "cells": [
  {
   "cell_type": "code",
   "execution_count": 3,
   "id": "d7fd8058-69ea-4c2c-8654-4f22b36d2f9e",
   "metadata": {},
   "outputs": [
    {
     "name": "stdout",
     "output_type": "stream",
     "text": [
      "새로운 창이 열리지 않았습니다.\n"
     ]
    }
   ],
   "source": [
    "from selenium import webdriver\n",
    "from selenium.webdriver.chrome.service import Service\n",
    "from webdriver_manager.chrome import ChromeDriverManager\n",
    "from selenium.webdriver.common.by import By\n",
    "from selenium.webdriver.support.ui import WebDriverWait\n",
    "from selenium.webdriver.support import expected_conditions as EC\n",
    "\n",
    "# 웹 드라이버 초기화\n",
    "service = Service(ChromeDriverManager().install())\n",
    "options = webdriver.ChromeOptions()\n",
    "options.add_argument(\"--disable-infobars\")\n",
    "options.add_argument(\"--disable-extensions\")\n",
    "options.add_argument(\"--start-maximized\")\n",
    "driver = webdriver.Chrome(service=service, options=options)\n",
    "\n",
    "# URL 접속\n",
    "url = \"https://www.recycling-info.or.kr/act4r/about/recycleChart.do\"\n",
    "driver.get(url)\n",
    "\n",
    "# 메인 창 핸들 저장\n",
    "main_window = driver.current_window_handle\n",
    "\n",
    "# 새 창 열림 대기\n",
    "wait = WebDriverWait(driver, 10)\n",
    "wait.until(EC.new_window_is_opened)\n",
    "\n",
    "# 새로운 창 핸들 가져오기\n",
    "new_window_handles = [window for window in driver.window_handles if window != main_window]\n",
    "if new_window_handles:\n",
    "    new_window = new_window_handles[0]\n",
    "    # 새로운 창으로 전환\n",
    "    driver.switch_to.window(new_window)\n",
    "\n",
    "    # 차트 로드 대기 (명시적 대기)\n",
    "    chart_element = wait.until(EC.presence_of_element_located((By.CSS_SELECTOR, \"div.chart-wrap\")))\n",
    "\n",
    "    # 차트 정보 가져오기\n",
    "    chart_html = chart_element.get_attribute(\"outerHTML\")\n",
    "\n",
    "    print(chart_html)\n",
    "\n",
    "    # 메인 창으로 전환\n",
    "    driver.switch_to.window(main_window)\n",
    "else:\n",
    "    print(\"새로운 창이 열리지 않았습니다.\")\n",
    "\n"
   ]
  },
  {
   "cell_type": "code",
   "execution_count": null,
   "id": "c3ae9d54-e9b6-4146-9a1a-9e408a9cb0bd",
   "metadata": {},
   "outputs": [],
   "source": []
  }
 ],
 "metadata": {
  "kernelspec": {
   "display_name": "Python 3 (ipykernel)",
   "language": "python",
   "name": "python3"
  },
  "language_info": {
   "codemirror_mode": {
    "name": "ipython",
    "version": 3
   },
   "file_extension": ".py",
   "mimetype": "text/x-python",
   "name": "python",
   "nbconvert_exporter": "python",
   "pygments_lexer": "ipython3",
   "version": "3.11.7"
  }
 },
 "nbformat": 4,
 "nbformat_minor": 5
}
